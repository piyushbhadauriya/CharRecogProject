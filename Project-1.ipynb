{
 "cells": [
  {
   "cell_type": "code",
   "execution_count": 1,
   "metadata": {},
   "outputs": [],
   "source": [
    "# get the data set\n",
    "import os\n",
    "#import tarfile\n",
    "from zipfile import ZipFile \n",
    "from six.moves import urllib\n",
    "from ipywidgets import FloatProgress\n",
    "from IPython.display import display\n",
    "\n",
    "class Pbar:\n",
    "    pbar = None\n",
    "    @classmethod\n",
    "    def getPbar(cls,total_size):\n",
    "        if cls.pbar == None:\n",
    "#            print('Get new Progress Bar')\n",
    "            cls.pbar = FloatProgress(min=0, max=total_size)\n",
    "            display(cls.pbar)\n",
    "        return cls.pbar\n",
    "            \n",
    "\n",
    "def show_progress(count, block_size, total_size):\n",
    "    #print(count, block_size, total_size)\n",
    "    pBar = Pbar.getPbar(total_size/block_size)\n",
    "    pBar.value = count\n",
    "    \n",
    "DOWNLOAD_ROOT = \"https://storage.googleapis.com/ml_data_pib/\"\n",
    "DATA_PATH = os.path.join(\"datasets\", \"emnist\")\n",
    "DATA_URL = DOWNLOAD_ROOT + \"char_recognition/emnist.zip\"\n",
    "def fetch_data(data_url=DATA_URL, data_path=DATA_PATH):\n",
    "    if not os.path.isdir(data_path):\n",
    "        os.makedirs(data_path)\n",
    "    zip_path = os.path.join(data_path, \"emnist.zip\")\n",
    "    if not os.path.isfile(zip_path):\n",
    "        urllib.request.urlretrieve(data_url, zip_path, show_progress)\n",
    "    else:\n",
    "        print(\"Data file already exist\")\n",
    "        \n",
    "    with ZipFile(zip_path, 'r') as zip:\n",
    "        print('Extracting all the files now...') \n",
    "        zip.extractall(data_path)\n",
    "        print('Done!')\n",
    "        zip.printdir() \n",
    "\n"
   ]
  },
  {
   "cell_type": "code",
   "execution_count": 2,
   "metadata": {},
   "outputs": [
    {
     "data": {
      "application/vnd.jupyter.widget-view+json": {
       "model_id": "52a03d60d8a5427db8b8e59054e0dd32",
       "version_major": 2,
       "version_minor": 0
      },
      "text/plain": [
       "FloatProgress(value=0.0, max=163071.11682128906)"
      ]
     },
     "metadata": {},
     "output_type": "display_data"
    },
    {
     "name": "stdout",
     "output_type": "stream",
     "text": [
      "Extracting all the files now...\n",
      "Done!\n",
      "File Name                                             Modified             Size\n",
      "emnist-digits-mapping.txt                      2017-12-20 17:43:08           60\n",
      "emnist-balanced-mapping.txt                    2017-12-20 17:43:08          328\n",
      "emnist-letters-test.csv                        2017-12-20 17:45:50     28625756\n",
      "emnist-bymerge-test.csv                        2017-12-20 17:46:36    225150904\n",
      "emnist-letters-train.csv                       2017-12-20 17:44:48    171610185\n",
      "emnist-mnist-train.csv                         2017-12-20 17:45:04    116024334\n",
      "emnist-letters-mapping.txt                     2017-12-20 17:43:08          274\n",
      "emnist-byclass-test.csv                        2017-12-20 17:44:42    225162094\n",
      "emnist-byclass-mapping.txt                     2017-12-20 17:43:08          447\n",
      "emnist-bymerge-mapping.txt                     2017-12-20 17:43:08          328\n",
      "emnist-digits-train.csv                        2017-12-20 17:45:00    464090839\n",
      "emnist-bymerge-train.csv                       2017-12-20 17:45:48   1350934673\n",
      "emnist_source_files.zip                        2017-12-20 17:43:22    575714502\n",
      "emnist-mnist-test.csv                          2017-12-20 17:44:48     19344341\n",
      "emnist-byclass-train.csv                       2017-12-20 17:46:30   1350923483\n",
      "emnist-mnist-mapping.txt                       2017-12-20 17:43:08           60\n",
      "emnist-balanced-train.csv                      2017-12-20 17:45:12    218619475\n",
      "emnist-balanced-test.csv                       2017-12-20 17:45:04     36454802\n",
      "emnist-digits-test.csv                         2017-12-20 17:44:44     77362729\n"
     ]
    }
   ],
   "source": [
    "#https://www.kaggle.com/crawford/emnist/downloads/emnist.zip/3\n",
    "fetch_data()"
   ]
  },
  {
   "cell_type": "code",
   "execution_count": 1,
   "metadata": {},
   "outputs": [],
   "source": [
    "# Not Text data use numpy array\n",
    "#DATA_PATH = os.path.join(\"datasets\", \"emnist\")\n",
    "# import pandas as pd\n",
    "# def load_data(data_path=DATA_PATH):\n",
    "#     csv_path = os.path.join(data_path, \"emnist-letters-train.csv\")\n",
    "#     return pd.read_csv(csv_path)\n",
    "\n",
    "# data = load_data()\n",
    "# data.head()"
   ]
  },
  {
   "cell_type": "code",
   "execution_count": 2,
   "metadata": {},
   "outputs": [],
   "source": [
    "# data.info()"
   ]
  },
  {
   "cell_type": "code",
   "execution_count": 3,
   "metadata": {},
   "outputs": [],
   "source": [
    "# from ipywidgets import FloatProgress\n",
    "# from IPython.display import display\n",
    "# import time\n",
    "# class Pbar:\n",
    "#     pbar = None\n",
    "#     @classmethod\n",
    "#     def getPbar(cls,total_size):\n",
    "#         if cls.pbar == None:\n",
    "#             print('Get new Progress Bar')\n",
    "#             cls.pbar = FloatProgress(min=0, max=total_size)\n",
    "#             display(cls.pbar)\n",
    "#         return cls.pbar\n",
    "            \n",
    "\n",
    "# def show_progress(count, block_size, total_size):\n",
    "#     pBar = Pbar.getPbar(total_size/8192)\n",
    "#     pBar.value = count\n",
    "#     print(pBar)\n",
    "\n",
    "# for i in range(1335870000):\n",
    "#     show_progress(i,0,1335870000)\n",
    "\n",
    "#------------------------------------------------------------------#\n",
    "# zip_path = os.path.join(DATA_PATH, \"emnist.zip\")\n",
    "# if not os.path.isfile(zip_path):\n",
    "#     print(\"not found\")\n",
    "\n",
    "#------------------------------------------------------------------#\n"
   ]
  },
  {
   "cell_type": "code",
   "execution_count": 4,
   "metadata": {},
   "outputs": [],
   "source": [
    "# #data['23']\n",
    "# data.describe()"
   ]
  },
  {
   "cell_type": "code",
   "execution_count": 5,
   "metadata": {},
   "outputs": [],
   "source": [
    "# # %matplotlib inline\n",
    "# # import matplotlib.pyplot as plt \n",
    "# # data.hist(bins=50, figsize=(200,150)) \n",
    "# # plt.show()\n",
    "# data.info()\n"
   ]
  },
  {
   "cell_type": "code",
   "execution_count": 6,
   "metadata": {},
   "outputs": [],
   "source": [
    "\n",
    "# def split_train_test(data, test_ratio):\n",
    "#     shuffled_indices = np.random.permutation(len(data))\n",
    "#     test_set_size = int(len(data) * test_ratio)\n",
    "#     test_indices = shuffled_indices[:test_set_size]\n",
    "#     train_indices = shuffled_indices[test_set_size:]\n",
    "# return data.iloc[train_indices], data.iloc[test_indices]"
   ]
  },
  {
   "cell_type": "code",
   "execution_count": null,
   "metadata": {},
   "outputs": [],
   "source": [
    "# load dataset\n",
    "import os\n",
    "import numpy as np\n",
    "DATA_PATH = os.path.join(\"datasets\", \"emnist\",'emnist-byclass-train.csv')\n",
    "dataset = np.loadtxt(DATA_PATH, delimiter=',')\n",
    "# split into input and output variables\n",
    "# DATA_PATH2 = os.path.join(\"datasets\", \"emnist\",'emnist-byclass-test.csv')\n",
    "# dataset_test = np.loadtxt(DATA_PATH2, delimiter=',')"
   ]
  },
  {
   "cell_type": "code",
   "execution_count": null,
   "metadata": {},
   "outputs": [],
   "source": []
  }
 ],
 "metadata": {
  "kernelspec": {
   "display_name": "Python 3",
   "language": "python",
   "name": "python3"
  },
  "language_info": {
   "codemirror_mode": {
    "name": "ipython",
    "version": 3
   },
   "file_extension": ".py",
   "mimetype": "text/x-python",
   "name": "python",
   "nbconvert_exporter": "python",
   "pygments_lexer": "ipython3",
   "version": "3.7.3"
  },
  "toc": {
   "base_numbering": 1,
   "nav_menu": {},
   "number_sections": true,
   "sideBar": true,
   "skip_h1_title": false,
   "title_cell": "Table of Contents",
   "title_sidebar": "Contents",
   "toc_cell": false,
   "toc_position": {},
   "toc_section_display": true,
   "toc_window_display": false
  }
 },
 "nbformat": 4,
 "nbformat_minor": 2
}
